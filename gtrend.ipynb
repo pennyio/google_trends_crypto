{
 "cells": [
  {
   "cell_type": "code",
   "execution_count": 85,
   "metadata": {
    "collapsed": false
   },
   "outputs": [],
   "source": [
    "import pandas as pd\n",
    "import numpy as np\n",
    "import seaborn as sns\n",
    "import StringIO\n",
    "from matplotlib import pyplot as plt\n",
    "\n",
    "import datetime, time\n",
    "import os\n",
    "\n",
    "import json\n",
    "import requests\n",
    "from bs4 import BeautifulSoup\n",
    "from pprint import pprint\n",
    "\n",
    "import pytrends as pt\n",
    "from pytrends.request import TrendReq\n",
    "\n",
    "% matplotlib inline"
   ]
  },
  {
   "cell_type": "code",
   "execution_count": 86,
   "metadata": {
    "collapsed": false
   },
   "outputs": [],
   "source": [
    "def getJSON(url):\n",
    "    start_time = time.time()\n",
    "    header = {'x-requested-with': 'XMLHttpRequest'}\n",
    "    mainPage = requests.get(url, headers = header)\n",
    "    data = mainPage.json()\n",
    "    print('Query finished in ' + str(time.time() - start_time))\n",
    "    return data"
   ]
  },
  {
   "cell_type": "code",
   "execution_count": 87,
   "metadata": {
    "collapsed": false
   },
   "outputs": [
    {
     "name": "stdout",
     "output_type": "stream",
     "text": [
      "Query finished in 0.260862112045\n",
      "{u'NEO': u'NEO', u'BCN': u'Bytecoin', u'KMD': u'Komodo', u'BCH': u'Bitcoin Cash', u'GNT': u'Golem', u'STEEM': u'Steem', u'PAY': u'TenX', u'REP': u'Augur', u'XLM': u'Stellar Lumens', u'BAT': u'Basic Attention Token', u'BCC': u'BitConnect', u'EOS': u'EOS', u'ETC': u'Ethereum Classic', u'ETH': u'Ethereum', u'GNO': u'Gnosis', u'DGB': u'DigiByte', u'FCT': u'Factom', u'DGD': u'DigixDAO', u'QTUM': u'Qtum', u'STRAT': u'Stratis', u'LSK': u'Lisk', u'CVC': u'Civic', u'HSR': u'Hshare', u'PPT': u'Populous', u'DCR': u'Decred', u'GBYTE': u'Byteball', u'ICN': u'Iconomi', u'NXS': u'Nexus', u'ZEC': u'Zcash', u'ZRX': u'0x', u'DASH': u'Dash', u'MCAP': u'MCAP', u'MIOTA': u'IOTA', u'MTL': u'Metal', u'VERI': u'Veritaseum', u'USDT': u'Tether', u'XRP': u'Ripple', u'XMR': u'Monero', u'BTCD': u'BitcoinDark', u'LTC': u'Litecoin', u'OMG': u'OmiseGO', u'BTS': u'BitShares', u'XEM': u'NEM', u'DOGE': u'Dogecoin', u'PIVX': u'PIVX', u'MAID': u'MaidSafeCoin', u'BTC': u'Bitcoin', u'WAVES': u'Waves', u'SC': u'Siacoin', u'ARK': u'Ark'}\n"
     ]
    }
   ],
   "source": [
    "#get CMC Symbol Info from API\n",
    "try:\n",
    "    data = getJSON(\"https://api.coinmarketcap.com/v1/ticker/\")\n",
    "except ValueError:\n",
    "    print \"CMC API Not Responding\"\n",
    "\n",
    "#write to dictionary\n",
    "token_dict = {}\n",
    "\n",
    "for x in range (0,50):\n",
    "    token_dict[data[x]['symbol']] = data[x]['name']\n",
    "    \n",
    "print token_dict"
   ]
  },
  {
   "cell_type": "code",
   "execution_count": 78,
   "metadata": {
    "collapsed": false
   },
   "outputs": [
    {
     "name": "stdout",
     "output_type": "stream",
     "text": [
      "Query finished in 1.47253489494\n"
     ]
    }
   ],
   "source": [
    "token1 = 'ETH'\n",
    "token2 = 'BTC'\n",
    "\n",
    "#Get Historical Price Data\n",
    "search_url = 'https://min-api.cryptocompare.com/data/histoday?fsym='+token1+'&tsym='+token2+'&limit=2000&aggregate=1&e=CCCAGG'\n",
    "result = getJSON(search_url)"
   ]
  },
  {
   "cell_type": "code",
   "execution_count": null,
   "metadata": {
    "collapsed": false
   },
   "outputs": [],
   "source": []
  },
  {
   "cell_type": "code",
   "execution_count": 79,
   "metadata": {
    "collapsed": false
   },
   "outputs": [],
   "source": [
    "price_data = pd.DataFrame(result['Data'])\n",
    "price_data['date'] = pd.to_datetime(price_data['time'],unit='s')\n",
    "price_data = price_data.set_index('date')"
   ]
  },
  {
   "cell_type": "code",
   "execution_count": 80,
   "metadata": {
    "collapsed": false
   },
   "outputs": [
    {
     "data": {
      "text/plain": [
       "Timestamp('2015-08-07 00:00:00')"
      ]
     },
     "execution_count": 80,
     "metadata": {},
     "output_type": "execute_result"
    }
   ],
   "source": [
    "(price_data[price_data.close>0]).index.min()"
   ]
  },
  {
   "cell_type": "code",
   "execution_count": 81,
   "metadata": {
    "collapsed": false
   },
   "outputs": [],
   "source": [
    "pytrend = TrendReq()\n",
    "pytrend.build_payload([token_dict[token1],token_dict[token2]], cat=0, timeframe='today 5-y', geo='', gprop='')\n",
    "google_index_data = pytrend.interest_over_time()\n",
    "\n",
    "# pytrend.build_payload([token_dict[token1],token_dict[token2]], cat=0, timeframe='now 7-d', geo='', gprop='')\n",
    "# google_index_data_extend = pytrend.interest_over_time()\n",
    "\n",
    "# google_index_data = google_index_data.append(google_index_data_extend)"
   ]
  },
  {
   "cell_type": "code",
   "execution_count": null,
   "metadata": {
    "collapsed": false
   },
   "outputs": [],
   "source": []
  },
  {
   "cell_type": "code",
   "execution_count": null,
   "metadata": {
    "collapsed": false
   },
   "outputs": [],
   "source": []
  },
  {
   "cell_type": "code",
   "execution_count": 82,
   "metadata": {
    "collapsed": false
   },
   "outputs": [],
   "source": [
    "# truncate data\n",
    "date_start = datetime.datetime(2017,1,1)\n",
    "date_start = max((price_data[price_data.close>0]).index.min(),date_start)\n",
    "price_data_trunc = price_data[price_data.index>=date_start]\n",
    "google_index_data_trunc = (google_index_data[google_index_data.index>=date_start]).copy()\n",
    "google_index_data_trunc['index_exchange'] = google_index_data_trunc[token_dict[token1]]/google_index_data_trunc[token_dict[token2]]"
   ]
  },
  {
   "cell_type": "code",
   "execution_count": 83,
   "metadata": {
    "collapsed": false
   },
   "outputs": [],
   "source": [
    "google_index_adjustment_rate = price_data_trunc['close'].mean()/google_index_data_trunc['index_exchange'].mean()"
   ]
  },
  {
   "cell_type": "code",
   "execution_count": null,
   "metadata": {
    "collapsed": false
   },
   "outputs": [],
   "source": []
  },
  {
   "cell_type": "code",
   "execution_count": 84,
   "metadata": {
    "collapsed": false
   },
   "outputs": [
    {
     "data": {
      "text/plain": [
       "<matplotlib.text.Text at 0x11940d610>"
      ]
     },
     "execution_count": 84,
     "metadata": {},
     "output_type": "execute_result"
    },
    {
     "data": {
      "image/png": "[encoded data removed]",
      "text/plain": [
       "<matplotlib.figure.Figure at 0x110935e50>"
      ]
     },
     "metadata": {},
     "output_type": "display_data"
    }
   ],
   "source": [
    "(price_data_trunc['close']).plot(label=token1+'_'+token2+'_\\nexchange_rate')\n",
    "(google_index_data_trunc['index_exchange']*google_index_adjustment_rate).plot(label=token_dict[token1]+'_'+token_dict[token2]+'_\\ngoogle_index_ratio_adjusted')\n",
    "plt.legend(loc='center left', bbox_to_anchor=(1, 0.5))\n",
    "plt.title(token1+' vs '+token2+'\\ngoogle_index_inflation:'+str(round(google_index_adjustment_rate,6)))\n",
    "# plt.annotate()"
   ]
  },
  {
   "cell_type": "code",
   "execution_count": null,
   "metadata": {
    "collapsed": false
   },
   "outputs": [],
   "source": []
  },
  {
   "cell_type": "code",
   "execution_count": null,
   "metadata": {
    "collapsed": false
   },
   "outputs": [],
   "source": []
  },
  {
   "cell_type": "code",
   "execution_count": null,
   "metadata": {
    "collapsed": false
   },
   "outputs": [],
   "source": []
  },
  {
   "cell_type": "code",
   "execution_count": null,
   "metadata": {
    "collapsed": true
   },
   "outputs": [],
   "source": []
  }
 ],
 "metadata": {
  "kernelspec": {
   "display_name": "Python 2",
   "language": "python",
   "name": "python2"
  },
  "language_info": {
   "codemirror_mode": {
    "name": "ipython",
    "version": 2
   },
   "file_extension": ".py",
   "mimetype": "text/x-python",
   "name": "python",
   "nbconvert_exporter": "python",
   "pygments_lexer": "ipython2",
   "version": "2.7.13"
  }
 },
 "nbformat": 4,
 "nbformat_minor": 2
}
